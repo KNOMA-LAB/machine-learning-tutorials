{
 "metadata": {
  "name": "",
  "signature": "sha256:f8503b0cf0c48b9c31055d97fc6384c29923ca79825686c4e45bcccadaa6ac85"
 },
 "nbformat": 3,
 "nbformat_minor": 0,
 "worksheets": [
  {
   "cells": [
    {
     "cell_type": "markdown",
     "metadata": {},
     "source": [
      "# Come\u00e7ando com Python e Numpy\n",
      "\n",
      "Python \u00e9 uma linguagem din\u00e2mica de uso geral e alto n\u00edvel, com gerenciamento autom\u00e1tico de mem\u00f3ria e suporte a diversos paradigmas de programa\u00e7\u00e3o. A biblioteca padr\u00e3o \u00e9 enorme e inclui m\u00f3dulos para estruturas de dados espec\u00edficas, v\u00e1rios protocolos web e at\u00e9 interfaces gr\u00e1ficas.\n",
      "\n",
      "## Por que usar Python para Machine Learning?\n",
      "\n",
      "N\u00e3o h\u00e1 um consenso sobre o que levou a comunidade de Machine Learning a come\u00e7ar a usar Python. Alguns acreditam que a linguagem \u00e9 inerentemente \"boa\" para a tarefa, mas eu, pessoalmente, acredito que o acaso foi muito mais importante do que quaisquer m\u00e9ritos t\u00e9cnicos. (mas isso \u00e9 apenas especula\u00e7\u00e3o!)\n",
      "\n",
      "O que eu imagino que aconteceu: depois que alguns pesquisadores come\u00e7aram a usar a linguagem, outros viram que era f\u00e1cil us\u00e1-la, o que levou mais pesquisadores a conhecerem e se interessarem por Python e assim por diante; pense em \"efeitos de rede\". Entretanto, quando a comunidade cient\u00edfica se familiarizou com a linguagem, come\u00e7aram a surgir v\u00e1rias bibliotecas b\u00e1sicas que a tornam t\u00e3o poderosa hoje: Numpy, para arrays n-dimensionais e opera\u00e7\u00f5es de \u00e1lgebra linear, e Scipy, que compreende desde estat\u00edstica at\u00e9 otimiza\u00e7\u00e3o e integra\u00e7\u00e3o num\u00e9rica.\n",
      "\n",
      "## O que veremos aqui?\n",
      "\n",
      "Este IPython notebook vai apresentar algumas das constru\u00e7\u00f5es mais comuns de Python e como usar Numpy para criar matrizes e manipul\u00e1-las.\n",
      "\n",
      "Antes de rodar este notebook, instale todas as bibliotecas necess\u00e1rias. Tendo `python` e `pip` corretamente configurados no seu sistema:\n",
      "\n",
      "    pip install 'ipython[notebook]' numpy scipy matplotlib scikit-learn theano keras\n",
      "    \n",
      "Isso vai instalar as bibliotecas que usaremos neste curso."
     ]
    },
    {
     "cell_type": "code",
     "collapsed": false,
     "input": [
      "# Esta \u00e9 a maneira de se importar bibliotecas no seu programa.\n",
      "import numpy\n",
      "\n",
      "# Voc\u00ea tamb\u00e9m pode importar subm\u00f3dulos, classes ou fun\u00e7\u00f5es espec\u00edficas de uma biblioteca.\n",
      "from scipy.interpolate import interp1d\n",
      "\n",
      "# Ou criar aliases para o m\u00f3dulo importado.\n",
      "import matplotlib.pyplot as plt\n",
      "\n",
      "# Isto possibilita que o IPython Notebook imprima os gr\u00e1ficos do Matplotlib automaticamente.\n",
      "%matplotlib inline\n",
      "\n",
      "# Isso transforma o print statement de Python 2.7 na fun\u00e7\u00e3o print() de Python 3+.\n",
      "from __future__ import print_function"
     ],
     "language": "python",
     "metadata": {},
     "outputs": [],
     "prompt_number": 22
    },
    {
     "cell_type": "code",
     "collapsed": false,
     "input": [
      "# Strings, n\u00fameros e vari\u00e1veis.\n",
      "s = \"Hello World\"\n",
      "print(s)\n",
      "\n",
      "a = 1\n",
      "b = 3.1415\n",
      "c = a + b\n",
      "print(\"c =\", c)"
     ],
     "language": "python",
     "metadata": {},
     "outputs": [
      {
       "output_type": "stream",
       "stream": "stdout",
       "text": [
        "Hello World\n",
        "c = 4.1415\n"
       ]
      }
     ],
     "prompt_number": 28
    },
    {
     "cell_type": "code",
     "collapsed": false,
     "input": [
      "# Listas e loops.\n",
      "\n",
      "# Podemos criar listas enumerando os elementos ou usando fun\u00e7\u00f5es como `xrange`.\n",
      "u = [1, 2, 3, 4, 5]\n",
      "v = xrange(10)\n",
      "\n",
      "print(\"Loop b\u00e1sico de uma lista\")\n",
      "for i in u:\n",
      "    print(i)\n",
      "    \n",
      "print(\"Como combinar duas listas com a fun\u00e7\u00e3o zip(u, v).\")\n",
      "print(\"Note que len(u) =\", len(u), \" e len(v) =\", len(v), \".\")\n",
      "print(\"Seleciona-se valores de acordo com o tamanho da menor lista.\")\n",
      "for i, j in zip(u, v):\n",
      "    print(i + j)"
     ],
     "language": "python",
     "metadata": {},
     "outputs": [
      {
       "output_type": "stream",
       "stream": "stdout",
       "text": [
        "Loop b\u00e1sico de uma lista\n",
        "1\n",
        "2\n",
        "3\n",
        "4\n",
        "5\n",
        "Como combinar duas listas com a fun\u00e7\u00e3o zip(u, v).\n",
        "Note que len(u) = 5  e len(v) = 10 .\n",
        "Seleciona-se valores de acordo com o tamanho da menor lista.\n",
        "1\n",
        "3\n",
        "5\n",
        "7\n",
        "9\n"
       ]
      }
     ],
     "prompt_number": 29
    },
    {
     "cell_type": "code",
     "collapsed": false,
     "input": [
      "# Dicion\u00e1rios.\n",
      "d = {\"a\": 1, \"b\": 2}\n",
      "print(d)\n",
      "print(d[\"a\"])\n",
      "print(d[\"b\"] + 10)"
     ],
     "language": "python",
     "metadata": {},
     "outputs": [
      {
       "output_type": "stream",
       "stream": "stdout",
       "text": [
        "{'a': 1, 'b': 2}\n",
        "1\n",
        "12\n"
       ]
      }
     ],
     "prompt_number": 40
    },
    {
     "cell_type": "code",
     "collapsed": false,
     "input": [
      "# Fun\u00e7\u00f5es.\n",
      "\n",
      "def add_one(x):\n",
      "    return x + 1\n",
      "\n",
      "def add_two(x):\n",
      "    return add_one(add_one(x))\n",
      "\n",
      "def fibonacci(n):\n",
      "    \"\"\"Sequ\u00eancia de Fibonacci come\u00e7ando com F_1 = 1 e F_2 = 1.\"\"\"\n",
      "    if n == 1 or n == 2:\n",
      "        return 1\n",
      "    else:\n",
      "        return fibonacci(n - 1) + fibonacci(n - 2)"
     ],
     "language": "python",
     "metadata": {},
     "outputs": [],
     "prompt_number": 38
    },
    {
     "cell_type": "code",
     "collapsed": false,
     "input": [
      "print(add_one(1))\n",
      "print(add_two(1))\n",
      "\n",
      "print(fibonacci(3))\n",
      "print(fibonacci(10))"
     ],
     "language": "python",
     "metadata": {},
     "outputs": [
      {
       "output_type": "stream",
       "stream": "stdout",
       "text": [
        "2\n",
        "3\n",
        "2\n",
        "55\n"
       ]
      }
     ],
     "prompt_number": 39
    },
    {
     "cell_type": "markdown",
     "metadata": {},
     "source": [
      "# Numpy e Scipy\n",
      "\n",
      "Vou mostrar algumas das coisas que conseguimos fazer com o Numpy e o Scipy. Para mais informa\u00e7\u00f5es ou d\u00favidas com subm\u00f3dulos e fun\u00e7\u00f5es espec\u00edficos de cada um, olhem na documenta\u00e7\u00e3o:\n",
      "\n",
      "- [Numpy User Guide](https://docs.scipy.org/doc/numpy/user/)\n",
      "- [Scipy tutorial](https://docs.scipy.org/doc/scipy/reference/tutorial/index.html)"
     ]
    },
    {
     "cell_type": "code",
     "collapsed": false,
     "input": [
      "# Fazer um array de um tamanho espec\u00edfico: 100 linhas e 3 colunas.\n",
      "x = numpy.ones([100, 3])\n",
      "print(x.shape)\n",
      "\n",
      "# Criando um vetor a partir de uma lista.\n",
      "x = numpy.array([1, 2, 3])\n",
      "print(x.shape)"
     ],
     "language": "python",
     "metadata": {},
     "outputs": [
      {
       "output_type": "stream",
       "stream": "stdout",
       "text": [
        "(100, 3)\n",
        "(3,)\n"
       ]
      }
     ],
     "prompt_number": 43
    },
    {
     "cell_type": "code",
     "collapsed": false,
     "input": [
      "# `numpy.linspace` cria um vetor com `num` pontos entre o ponto inicial e o final.\n",
      "x = numpy.linspace(0, 10, num=11, endpoint=True)\n",
      "y = numpy.cos(-x**2 / 9.0)\n",
      "\n",
      "# `interp1d` retorna fun\u00e7\u00f5es.\n",
      "f = interp1d(x, y)\n",
      "f2 = interp1d(x, y, kind='cubic')"
     ],
     "language": "python",
     "metadata": {},
     "outputs": [],
     "prompt_number": 16
    },
    {
     "cell_type": "code",
     "collapsed": false,
     "input": [
      "xnew = numpy.linspace(0, 10, num=41, endpoint=True)\n",
      "\n",
      "plt.plot(x, y, 'o', xnew, f(xnew), '-', xnew, f2(xnew), '--')\n",
      "plt.legend(['data', 'linear', 'cubic'], loc='best')"
     ],
     "language": "python",
     "metadata": {},
     "outputs": [
      {
       "metadata": {},
       "output_type": "pyout",
       "prompt_number": 21,
       "text": [
        "<matplotlib.legend.Legend at 0x10b166cd0>"
       ]
      },
      {
       "metadata": {},
       "output_type": "display_data",
       "png": "[encoded data removed]",
       "text": [
        "<matplotlib.figure.Figure at 0x108328550>"
       ]
      }
     ],
     "prompt_number": 21
    }
   ],
   "metadata": {}
  }
 ]
}